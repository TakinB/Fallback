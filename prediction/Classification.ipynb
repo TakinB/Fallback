{
 "cells": [
  {
   "cell_type": "markdown",
   "metadata": {
    "collapsed": true,
    "pycharm": {
     "name": "#%% md\n"
    }
   },
   "source": [
    "## K-Nearest Neighbors Classifier on Iris Dataset\n",
    "\n",
    "As you may remember from class, K-Nearest Neighbors is an algorithm that attempts to classify an input based on the similarity of certain features to objects that are already in a known class. Each example is plotted as a function of its features. For the example of flowers, this could be the number of pedals and the length of its stem. The numerical distance of a new example's features to each of the old examples' features is calculated, and whichever k examples are 'nearest' to the new example determine which class it belongs to.\n",
    "For example, if k is 3, the 3 previous examples with features most numerically similar to an unknown example \n",
    "will be considered. If 2 of these 3 previous examples are Class 1, while the third is Class 2, \n",
    "the K-Nearest Neighbors algorithm will determine that your unknown example is also in Class 1. \n",
    "The number 'k' can also be changed to look at more or less previous examples.\n",
    "\n",
    "The dataset you will be using to explore this algorithm is the iris dataset. This dataset contains information about three species of the iris flower, characterized by the length and width of the sepals and pedals, giving four total features. \n",
    "\n",
    "Lets jump right into it by importing the required libraries."
   ]
  },
  {
   "cell_type": "code",
   "execution_count": 1,
   "outputs": [
    {
     "name": "stderr",
     "text": [
      "Illegal line #1\n\t\"~/.matplotlib/matplotlibrc\n\"\n\tin file \"/Users/bahareh/.matplotlib/matplotlibrc\"\n"
     ],
     "output_type": "stream"
    },
    {
     "data": {
      "text/plain": "((150, 4), (150,))"
     },
     "metadata": {},
     "output_type": "execute_result",
     "execution_count": 1
    }
   ],
   "source": [
    "# import numpy as np\n",
    "import matplotlib.pyplot as plt\n",
    "\n",
    "from sklearn import datasets, model_selection\n",
    "from sklearn.neighbors import KNeighborsClassifier\n",
    "from sklearn.metrics import accuracy_score\n",
    "\n",
    "\n",
    "iris = datasets.load_iris()\n",
    "\n",
    "\n",
    "# make sure everything was correctly imported\n",
    "iris.data.shape, iris.target.shape"
   ],
   "metadata": {
    "collapsed": false,
    "pycharm": {
     "name": "#%%\n",
     "is_executing": false
    }
   }
  },
  {
   "cell_type": "markdown",
   "source": [
    "### Building data sets\n",
    "Let's start constructing the K-NN model by splitting the whole data set into training and test data sets. Play around with 'random_state' to generate different splits. You may remember that the training set is used to tell the model what is known, while the test set is used to validate that the model is working.\n",
    "\n",
    "As a general rule for these exercises, look at the functions that have been imported and figure out how to use them via their documentation."
   ],
   "metadata": {
    "collapsed": false
   }
  },
  {
   "cell_type": "code",
   "execution_count": 4,
   "outputs": [],
   "source": [
    "from sklearn.model_selection import train_test_split\n",
    "X = iris.data  # take all the features\n",
    "y = iris.target\n",
    "\n",
    "## To do: split the data set into training and testing data set with size 100/50 respectively\n",
    "\n",
    "## check the training and testing data size\n"
   ],
   "metadata": {
    "collapsed": false,
    "pycharm": {
     "name": "#%%\n",
     "is_executing": false
    }
   }
  },
  {
   "cell_type": "markdown",
   "source": [
    "### Visualise the data\n",
    "Before starting to use machine learning, it is often useful to visualise your dataset to get a good understanding of what you are dealing with. Here, we will plot the data with respect to two of its features, namely the sepal length and width of each flower. Different colors represent the different classes of flower."
   ],
   "metadata": {
    "collapsed": false
   }
  },
  {
   "cell_type": "code",
   "execution_count": 7,
   "outputs": [
    {
     "data": {
      "text/plain": "<Figure size 432x288 with 1 Axes>",
      "image/png": "[encoded data removed]"
     },
     "metadata": {},
     "output_type": "display_data"
    }
   ],
   "source": [
    "X_train, X_test, y_train, y_test = train_test_split(X,y, test_size=0.33)\n",
    "# import training data to visualize\n",
    "X = X_train[:, :2]  # we only take the first two features.\n",
    "y = y_train\n",
    "\n",
    "\n",
    "x_min, x_max = X[:, 0].min() - .5, X[:, 0].max() + .5\n",
    "y_min, y_max = X[:, 1].min() - .5, X[:, 1].max() + .5\n",
    "\n",
    "\n",
    "# Plot the training points\n",
    "plt.scatter(X[:, 0], X[:, 1], c=y)\n",
    "plt.xlabel('Sepal length')\n",
    "plt.ylabel('Sepal width')\n",
    "\n",
    "plt.xlim(x_min, x_max)\n",
    "plt.ylim(y_min, y_max)\n",
    "plt.xticks(())\n",
    "plt.yticks(())\n",
    "\n",
    "\n",
    "plt.show()"
   ],
   "metadata": {
    "collapsed": false,
    "pycharm": {
     "name": "#%%\n",
     "is_executing": false
    }
   }
  },
  {
   "cell_type": "markdown",
   "source": [
    "Great! You can see here that even when you are only considering these two features, there are some differences between the classes.\n",
    "However, to get a more clear separation, we can use all four features provided by the dataset, though this is more difficult to visualise.\n",
    "\n",
    "### Building the model\n",
    "Now that we have all of our data set up, we can start playing with the K-NN model!\n",
    "We will start by putting the Scikit-Learn K-NN model into a function so we can easily call it and adjust it."
   ],
   "metadata": {
    "collapsed": false
   }
  },
  {
   "cell_type": "code",
   "execution_count": null,
   "outputs": [],
   "source": [
    "def knn_classifier(k, test_data, test_target, train_data, train_target):\n",
    "    \"\"\"k: number of neighbors to use in classication\n",
    "    test_data: the data/targets used to test the classifier\n",
    "    train_data: the data/targets used to classify the test_data\n",
    "    \"\"\"\n",
    "    \n",
    "    ## To do: build the knn_classifier using sklearn.neighbors.KNeighborsClassifier; \n",
    "    ## return the predicted test labels or testing accuracy\n",
    "    ## Hint: check the usage of sklearn.neighbors.KNeighborsClassifier and sklearn.metrics.accuracy_score\n",
    "    \n",
    "    return y_pred, accuracy\n",
    "    "
   ],
   "metadata": {
    "collapsed": false,
    "pycharm": {
     "name": "#%%\n"
    }
   }
  },
  {
   "cell_type": "markdown",
   "source": [
    "### Testing\n",
    "\n",
    "Now lets see how this model performs on test sets."
   ],
   "metadata": {
    "collapsed": false
   }
  },
  {
   "cell_type": "code",
   "execution_count": null,
   "outputs": [],
   "source": [
    "y_pred, accuracy = knn_classifier(5, X_test, y_test, X_train, y_train)\n",
    "\n",
    "print('The accuracy of our classifier is : %d%%' %(accuracy*100))"
   ],
   "metadata": {
    "collapsed": false,
    "pycharm": {
     "name": "#%%\n"
    }
   }
  },
  {
   "cell_type": "markdown",
   "source": [
    "### Varying parameters\n",
    "Change the variable K in the knn model to see how it will affect the performance of the model on test data. "
   ],
   "metadata": {
    "collapsed": false
   }
  },
  {
   "cell_type": "code",
   "execution_count": null,
   "outputs": [],
   "source": [
    "# creating list for accuracy and k\n",
    "acc_list = []\n",
    "neighbor_list = range(1,50,2)\n",
    "for k in neighbor_list:\n",
    "    y_pred, acc = knn_classifier(k, X_test, y_test, X_train, y_train)\n",
    "    acc_list.append(acc)\n",
    "\n",
    "# plot the figure of accuracy varying with number of neighbors K\n",
    "plt.plot(neighbor_list, acc_list)\n",
    "plt.xlabel('Number of Neighbors K')\n",
    "plt.ylabel('Classification Accuracy')\n",
    "plt.show()\n"
   ],
   "metadata": {
    "collapsed": false,
    "pycharm": {
     "name": "#%%\n"
    }
   }
  },
  {
   "cell_type": "markdown",
   "source": [
    "### Extensions: Parameter Tuning with Cross Validation\n",
    "We’ll explore a method that can be used to tune the hyperparameter K. Cross-validation can be used to estimate the test error associated with a learning method in order to evaluate its performance, or to select the appropriate level of flexibility.\n",
    "\n",
    "k-fold cross validation (the k is totally unrelated to K) involves randomly dividing the training set into k groups, or folds, of approximately equal size. The first fold is treated as a validation set, and the method is fit on the remaining k−1 folds. The misclassification rate is then computed on the observations in the held-out fold. This procedure is repeated k times; each time, a different group of observations is treated as a validation set. This process results in k estimates of the test error which are then averaged out."
   ],
   "metadata": {
    "collapsed": false
   }
  },
  {
   "cell_type": "code",
   "execution_count": null,
   "outputs": [],
   "source": [
    "from sklearn.model_selection import cross_val_score\n",
    "# creating list for accuracy and k\n",
    "acc_list = []\n",
    "neighbor_list = range(1,50,2)\n",
    "\n",
    "# empty list that will hold cv scores\n",
    "cv_scores = []\n",
    "\n",
    "# To do: perform 10-fold cross validation\n",
    "# Hint: check the usage of cross_val_score\n",
    "\n",
    "\n",
    "# plot the curve of validation accuracy varing with different K    \n",
    "plt.plot(neighbor_list, cv_scores)\n",
    "plt.xlabel('Number of Neighbors K')\n",
    "plt.ylabel('Cross validation classification accuracy')\n",
    "plt.show()"
   ],
   "metadata": {
    "collapsed": false,
    "pycharm": {
     "name": "#%%\n"
    }
   }
  },
  {
   "cell_type": "markdown",
   "source": [
    "Did you notice the difference of best K when tuned on test data and on validation data? How would you interpret this?"
   ],
   "metadata": {
    "collapsed": false
   }
  }
 ],
 "metadata": {
  "kernelspec": {
   "display_name": "Python 3",
   "language": "python",
   "name": "python3"
  },
  "language_info": {
   "codemirror_mode": {
    "name": "ipython",
    "version": 2
   },
   "file_extension": ".py",
   "mimetype": "text/x-python",
   "name": "python",
   "nbconvert_exporter": "python",
   "pygments_lexer": "ipython2",
   "version": "2.7.6"
  },
  "pycharm": {
   "stem_cell": {
    "cell_type": "raw",
    "source": [],
    "metadata": {
     "collapsed": false
    }
   }
  }
 },
 "nbformat": 4,
 "nbformat_minor": 0
}